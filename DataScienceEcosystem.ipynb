{
 "cells": [
  {
   "cell_type": "markdown",
   "id": "37f43ba6-a72a-46a1-8198-a5b245820f1b",
   "metadata": {},
   "source": [
    "# Data Science Tools and Ecosystem"
   ]
  },
  {
   "cell_type": "markdown",
   "id": "7f065a7f-2d16-4bf7-911b-c9b1aa485e11",
   "metadata": {
    "tags": []
   },
   "source": [
    "# In this notebook, Data Science Tools and Ecosystem are summerized."
   ]
  },
  {
   "cell_type": "markdown",
   "id": "d3812278-9f73-4dc8-89ed-47405c860169",
   "metadata": {
    "tags": []
   },
   "source": [
    "**Objectives:**\n",
    "- List popular languages for Data Science\n",
    "- List Data Science Tools\n",
    "- List commonly used libraries used by Data Scientists\n",
    "- Convert minutes to hours\n",
    "- Do a arithmetic expression to multiply and add integers"
   ]
  },
  {
   "cell_type": "markdown",
   "id": "85f17914-f59b-4cd4-b414-21e5ef641c2a",
   "metadata": {},
   "source": [
    "# Some of the popular languages that Data Scientists use are:\n",
    "1) Python\n",
    "2) SQL\n",
    "3) Scala\n",
    "4) Julia\n",
    "5) JavaScript"
   ]
  },
  {
   "cell_type": "markdown",
   "id": "d42d638e-5ade-43e1-8b32-5228bd3c20b0",
   "metadata": {},
   "source": [
    "# Some of the commonly used libraries used by Data Scientists include:"
   ]
  },
  {
   "cell_type": "markdown",
   "id": "6687e68e-74b3-4187-b42f-643dec0b3b2d",
   "metadata": {},
   "source": [
    "1) Pandas\n",
    "2) NymPy\n",
    "3) Matplotlib\n",
    "4) PyTorch\n",
    "5) SciPy"
   ]
  },
  {
   "cell_type": "markdown",
   "id": "d484bf84-0176-4417-a11b-b5f51121d071",
   "metadata": {},
   "source": [
    "# Data Science Tools"
   ]
  },
  {
   "cell_type": "markdown",
   "id": "c82e03a4-e57c-458d-8028-d0f5d214546e",
   "metadata": {},
   "source": [
    "| Data Science Tools |\n",
    "| ------------------ |\n",
    "| RStudio |\n",
    "| TensorFlow |\n",
    "| Apache Hadoop |"
   ]
  },
  {
   "cell_type": "markdown",
   "id": "4403aa95-f704-4f08-990e-b0572b0e2361",
   "metadata": {},
   "source": [
    "### Below are a few examples of evaluating arithmetic expressions in Python"
   ]
  },
  {
   "cell_type": "code",
   "execution_count": 3,
   "id": "e3dcbfbd-f8ec-49f9-b368-737257bcff1c",
   "metadata": {
    "tags": []
   },
   "outputs": [
    {
     "data": {
      "text/plain": [
       "17"
      ]
     },
     "execution_count": 3,
     "metadata": {},
     "output_type": "execute_result"
    }
   ],
   "source": [
    "(3*4)+5\n",
    "# This is a simple arithmetic expression to multiply then add integers"
   ]
  },
  {
   "cell_type": "code",
   "execution_count": 6,
   "id": "32a8d701-5f47-46c0-9077-cb034d97d11a",
   "metadata": {
    "tags": []
   },
   "outputs": [
    {
     "name": "stdout",
     "output_type": "stream",
     "text": [
      "3.3333333333333335\n"
     ]
    }
   ],
   "source": [
    "x = 200\n",
    "y = 60\n",
    "\n",
    "print(x / y)\n",
    "\n",
    "# This will convert 200 minutes to hours by dividing by 60"
   ]
  },
  {
   "cell_type": "markdown",
   "id": "4f3e7e7d-3eda-41ff-9434-150c93fa3a3b",
   "metadata": {},
   "source": [
    "## Author\n",
    "# OM BELOSE"
   ]
  },
  {
   "cell_type": "code",
   "execution_count": null,
   "id": "ea21b47a-12e2-4383-b485-081beef232f5",
   "metadata": {},
   "outputs": [],
   "source": []
  }
 ],
 "metadata": {
  "kernelspec": {
   "display_name": "Python",
   "language": "python",
   "name": "conda-env-python-py"
  },
  "language_info": {
   "codemirror_mode": {
    "name": "ipython",
    "version": 3
   },
   "file_extension": ".py",
   "mimetype": "text/x-python",
   "name": "python",
   "nbconvert_exporter": "python",
   "pygments_lexer": "ipython3",
   "version": "3.7.12"
  }
 },
 "nbformat": 4,
 "nbformat_minor": 5
}
